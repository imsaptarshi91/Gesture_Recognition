{
 "cells": [
  {
   "cell_type": "markdown",
   "metadata": {},
   "source": [
    "# Gesture Recognition\n",
    "In this group project, you are going to build a 3D Conv model that will be able to predict the 5 gestures correctly. Please import the following libraries to get started."
   ]
  },
  {
   "cell_type": "code",
   "execution_count": 113,
   "metadata": {},
   "outputs": [],
   "source": [
    "import numpy as np\n",
    "import os\n",
    "from skimage import io,transform\n",
    "\n",
    "import datetime\n"
   ]
  },
  {
   "cell_type": "code",
   "execution_count": 141,
   "metadata": {},
   "outputs": [
    {
     "data": {
      "text/plain": [
       "'2.14.0'"
      ]
     },
     "execution_count": 141,
     "metadata": {},
     "output_type": "execute_result"
    }
   ],
   "source": [
    "tf. __version__"
   ]
  },
  {
   "cell_type": "markdown",
   "metadata": {},
   "source": [
    "We set the random seed so that the results don't vary drastically."
   ]
  },
  {
   "cell_type": "code",
   "execution_count": 114,
   "metadata": {},
   "outputs": [],
   "source": [
    "np.random.seed(30)\n",
    "import random as rn\n",
    "rn.seed(30)\n",
    "from keras import backend as K\n",
    "import tensorflow as tf\n",
    "tf.random.set_seed(30)"
   ]
  },
  {
   "cell_type": "markdown",
   "metadata": {},
   "source": [
    "In this block, you read the folder names for training and validation. You also set the `batch_size` here. Note that you set the batch size in such a way that you are able to use the GPU in full capacity. You keep increasing the batch size until the machine throws an error."
   ]
  },
  {
   "cell_type": "code",
   "execution_count": 165,
   "metadata": {},
   "outputs": [],
   "source": [
    "train_doc = np.random.permutation(open('/Users/rishismac/Downloads/Project_data/train.csv').readlines())\n",
    "val_doc = np.random.permutation(open('/Users/rishismac/Downloads/Project_data/val.csv').readlines())\n",
    "batch_size =33"
   ]
  },
  {
   "cell_type": "code",
   "execution_count": 166,
   "metadata": {},
   "outputs": [],
   "source": [
    "train_doc=train_doc[:660]\n",
    "val_doc=val_doc[:99]"
   ]
  },
  {
   "cell_type": "markdown",
   "metadata": {},
   "source": [
    "## Generator\n",
    "This is one of the most important part of the code. The overall structure of the generator has been given. In the generator, you are going to preprocess the images as you have images of 2 different dimensions as well as create a batch of video frames. You have to experiment with `img_idx`, `y`,`z` and normalization such that you get high accuracy."
   ]
  },
  {
   "cell_type": "code",
   "execution_count": 167,
   "metadata": {},
   "outputs": [],
   "source": [
    "def generator(source_path, folder_list, batch_size):\n",
    "    print( 'Source path = ', source_path, '; batch size =', batch_size)\n",
    "    img_idx = np.arange(0,30,2)\n",
    "    while True:\n",
    "        t = np.random.permutation(folder_list)\n",
    "        num_batches = len(folder_list)//batch_size\n",
    "        for batch in range(num_batches): # we iterate over the number of batches\n",
    "            batch_data = np.zeros((batch_size,15,100,100,3)) # x is the number of images you use for each video, (y,z) is the final size of the input images and 3 is the number of channels RGB\n",
    "            batch_labels = np.zeros((batch_size,5)) # batch_labels is the one hot representation of the output\n",
    "            for folder in range(batch_size): # iterate over the batch_size\n",
    "                imgs = os.listdir(source_path+'/'+ t[folder + (batch*batch_size)].split(';')[0]) # read all the images in the folder\n",
    "                for idx,item in enumerate(img_idx): #  Iterate iver the frames/images of a folder to read them in\n",
    "                    image = io.imread(source_path+'/'+ t[folder + (batch*batch_size)].strip().split(';')[0]+'/'+imgs[item]).astype(np.float32)\n",
    "                    \n",
    "                    \n",
    "                    \n",
    "                    #crop the images and resize them. Note that the images are of 2 different shape\n",
    "                    resizedImage = transform.resize(image, (120, 120,3))\n",
    "                    \n",
    "                    ## Data Augmentation:\n",
    "                    \n",
    "                    \n",
    "                    \n",
    "\n",
    "                    #and the conv3D will throw error if the inputs in a batch have different shapes\n",
    "                    \n",
    "                    \n",
    "                    batch_data[folder,idx,:,:,0] = (resizedImage[:,:,0]-np.min(resizedImage[:,:,0]))/((np.max(resizedImage[:,:,0])-np.min(resizedImage[:,:,0])))\n",
    "                    batch_data[folder,idx,:,:,1] = (resizedImage[:,:,1]-np.min(resizedImage[:,:,1]))/((np.max(resizedImage[:,:,1])-np.min(resizedImage[:,:,1])))\n",
    "                    batch_data[folder,idx,:,:,2] = (resizedImage[:,:,2]-np.min(resizedImage[:,:,2]))/((np.max(resizedImage[:,:,2])-np.min(resizedImage[:,:,2])))\n",
    "\n",
    "                batch_labels[folder, int(t[folder + (batch*batch_size)].strip().split(';')[2])] = 1\n",
    "            yield batch_data, batch_labels #you yield the batch_data and the batch_labels, remember what does yield do\n",
    "\n",
    "        \n",
    "        # write the code for the remaining data points which are left after full batches\n"
   ]
  },
  {
   "cell_type": "markdown",
   "metadata": {},
   "source": [
    "Note here that a video is represented above in the generator as (number of images, height, width, number of channels). Take this into consideration while creating the model architecture."
   ]
  },
  {
   "cell_type": "code",
   "execution_count": 168,
   "metadata": {},
   "outputs": [
    {
     "name": "stdout",
     "output_type": "stream",
     "text": [
      "# training sequences = 660\n",
      "# validation sequences = 99\n",
      "# epochs = 20\n"
     ]
    }
   ],
   "source": [
    "curr_dt_time = datetime.datetime.now()\n",
    "train_path = '/Users/rishismac/Downloads/Project_data/train'\n",
    "val_path = '/Users/rishismac/Downloads/Project_data/val'\n",
    "num_train_sequences = len(train_doc)\n",
    "print('# training sequences =', num_train_sequences)\n",
    "num_val_sequences = len(val_doc)\n",
    "print('# validation sequences =', num_val_sequences)\n",
    "num_epochs = 20\n",
    "print ('# epochs =', num_epochs)"
   ]
  },
  {
   "cell_type": "markdown",
   "metadata": {},
   "source": [
    "## Model\n",
    "Here you make the model using different functionalities that Keras provides. Remember to use `Conv3D` and `MaxPooling3D` and not `Conv2D` and `Maxpooling2D` for a 3D convolution model. You would want to use `TimeDistributed` while building a Conv2D + RNN model. Also remember that the last layer is the softmax. Design the network in such a way that the model is able to give good accuracy on the least number of parameters so that it can fit in the memory of the webcam."
   ]
  },
  {
   "cell_type": "code",
   "execution_count": 169,
   "metadata": {},
   "outputs": [],
   "source": [
    "from keras.models import Sequential, Model\n",
    "from keras.layers import Dense, GRU, Flatten, TimeDistributed, Flatten, BatchNormalization, Activation\n",
    "from keras.layers import Conv3D, MaxPooling3D\n",
    "from keras.callbacks import ModelCheckpoint, ReduceLROnPlateau\n",
    "from keras import optimizers\n",
    "\n"
   ]
  },
  {
   "cell_type": "code",
   "execution_count": 170,
   "metadata": {},
   "outputs": [],
   "source": [
    "model=Sequential()\n",
    "#layer1:\n",
    "\n",
    "model.add(Conv3D(16,kernel_size=(2,2,2),strides=(1,1,1),padding='same',input_shape=(15,100,100,3),activation='relu'))\n",
    "model.add(MaxPooling3D(pool_size=(2,2,2)))\n",
    "\n",
    "\n",
    "#layer2:\n",
    "model.add(Conv3D(32,kernel_size=(2,2,2),strides=(1,1,1),padding='same',activation='relu'))\n",
    "model.add(MaxPooling3D(pool_size=(2,2,2)))\n",
    "\n",
    "\n",
    "\n",
    "#layer3:\n",
    "model.add(Conv3D(64,kernel_size=(2,2,2),strides=(1,1,1),padding='same',activation='relu'))\n",
    "model.add(MaxPooling3D(pool_size=(2,2,2)))\n",
    "\n",
    "\n",
    "\n",
    "\n",
    "#Flatten:\n",
    "model.add(Flatten())\n",
    "\n",
    "#Dense Connections:\n",
    "model.add(Dense(512,activation='relu'))\n",
    "\n",
    "\n",
    "model.add(Dense(5,activation='softmax'))\n"
   ]
  },
  {
   "cell_type": "markdown",
   "metadata": {},
   "source": [
    "Now that you have written the model, the next step is to `compile` the model. When you print the `summary` of the model, you'll see the total number of parameters you have to train."
   ]
  },
  {
   "cell_type": "code",
   "execution_count": 171,
   "metadata": {
    "scrolled": false
   },
   "outputs": [
    {
     "name": "stdout",
     "output_type": "stream",
     "text": [
      "Model: \"sequential_12\"\n",
      "_________________________________________________________________\n",
      " Layer (type)                Output Shape              Param #   \n",
      "=================================================================\n",
      " conv3d_37 (Conv3D)          (None, 15, 100, 100, 16   400       \n",
      "                             )                                   \n",
      "                                                                 \n",
      " max_pooling3d_36 (MaxPooli  (None, 7, 50, 50, 16)     0         \n",
      " ng3D)                                                           \n",
      "                                                                 \n",
      " conv3d_38 (Conv3D)          (None, 7, 50, 50, 32)     4128      \n",
      "                                                                 \n",
      " max_pooling3d_37 (MaxPooli  (None, 3, 25, 25, 32)     0         \n",
      " ng3D)                                                           \n",
      "                                                                 \n",
      " conv3d_39 (Conv3D)          (None, 3, 25, 25, 64)     16448     \n",
      "                                                                 \n",
      " max_pooling3d_38 (MaxPooli  (None, 1, 12, 12, 64)     0         \n",
      " ng3D)                                                           \n",
      "                                                                 \n",
      " flatten_6 (Flatten)         (None, 9216)              0         \n",
      "                                                                 \n",
      " dense_12 (Dense)            (None, 512)               4719104   \n",
      "                                                                 \n",
      " dense_13 (Dense)            (None, 5)                 2565      \n",
      "                                                                 \n",
      "=================================================================\n",
      "Total params: 4742645 (18.09 MB)\n",
      "Trainable params: 4742645 (18.09 MB)\n",
      "Non-trainable params: 0 (0.00 Byte)\n",
      "_________________________________________________________________\n",
      "None\n"
     ]
    }
   ],
   "source": [
    "optimiser='adam'\n",
    "model.compile(optimizer=optimiser, loss='categorical_crossentropy', metrics=['categorical_accuracy'])\n",
    "print (model.summary())"
   ]
  },
  {
   "cell_type": "markdown",
   "metadata": {},
   "source": [
    "Let us create the `train_generator` and the `val_generator` which will be used in `.fit_generator`."
   ]
  },
  {
   "cell_type": "code",
   "execution_count": 172,
   "metadata": {},
   "outputs": [],
   "source": [
    "train_generator = generator(train_path, train_doc, batch_size)\n",
    "val_generator = generator(val_path, val_doc, batch_size)\n"
   ]
  },
  {
   "cell_type": "code",
   "execution_count": null,
   "metadata": {},
   "outputs": [],
   "source": [
    "model_name = 'model_init' + '_' + str(curr_dt_time).replace(' ','').replace(':','_') + '/'\n",
    "    \n",
    "if not os.path.exists(model_name):\n",
    "    os.mkdir(model_name)\n",
    "        \n",
    "filepath = model_name + 'model-{epoch:05d}-{loss:.5f}-{categorical_accuracy:.5f}-{val_loss:.5f}-{val_categorical_accuracy:.5f}.h5'\n",
    "\n",
    "checkpoint = ModelCheckpoint(filepath, monitor='val_loss', verbose=1, save_best_only=False, save_weights_only=False, mode='auto', period=1)\n",
    "\n",
    "LR = # write the REducelronplateau code here\n",
    "callbacks_list = [checkpoint, LR]"
   ]
  },
  {
   "cell_type": "markdown",
   "metadata": {},
   "source": [
    "The `steps_per_epoch` and `validation_steps` are used by `fit_generator` to decide the number of next() calls it need to make."
   ]
  },
  {
   "cell_type": "code",
   "execution_count": 173,
   "metadata": {},
   "outputs": [],
   "source": [
    "# To make sure that you have \"at least steps_per_epoch * epochs batches\", set the steps_per_epoch to\n",
    "\n",
    "# steps_per_epoch = len(X_train)//batch_size\n",
    "\n",
    "# validation_steps = len(X_test)//batch_size # if you have validation data \n",
    "\n",
    "if (num_train_sequences%batch_size) == 0:\n",
    "    steps_per_epoch = int(num_train_sequences/batch_size)\n",
    "else:\n",
    "    steps_per_epoch = (num_train_sequences//batch_size) + 1\n",
    "\n",
    "if (num_val_sequences%batch_size) == 0:\n",
    "    validation_steps = int(num_val_sequences/batch_size)\n",
    "else:\n",
    "    validation_steps = (num_val_sequences//batch_size) + 1"
   ]
  },
  {
   "cell_type": "markdown",
   "metadata": {},
   "source": [
    "Let us now fit the model. This will start training the model and with the help of the checkpoints, you'll be able to save the model at the end of each epoch."
   ]
  },
  {
   "cell_type": "code",
   "execution_count": 174,
   "metadata": {
    "scrolled": false
   },
   "outputs": [
    {
     "name": "stdout",
     "output_type": "stream",
     "text": [
      "Source path =  /Users/rishismac/Downloads/Project_data/train ; batch size = 33\n",
      "Epoch 1/20\n",
      "20/20 [==============================] - ETA: 0s - loss: 1.6917 - accuracy: 0.1924Source path =  /Users/rishismac/Downloads/Project_data/val ; batch size = 33\n",
      "20/20 [==============================] - 99s 5s/step - loss: 1.6917 - accuracy: 0.1924 - val_loss: 1.5563 - val_accuracy: 0.3434\n",
      "Epoch 2/20\n",
      "20/20 [==============================] - 93s 5s/step - loss: 1.4661 - accuracy: 0.3606 - val_loss: 1.2778 - val_accuracy: 0.5253\n",
      "Epoch 3/20\n",
      "20/20 [==============================] - 119s 6s/step - loss: 1.1365 - accuracy: 0.5242 - val_loss: 1.1643 - val_accuracy: 0.5051\n",
      "Epoch 4/20\n",
      "20/20 [==============================] - 99s 5s/step - loss: 0.8817 - accuracy: 0.6364 - val_loss: 0.9489 - val_accuracy: 0.6364\n",
      "Epoch 5/20\n",
      "20/20 [==============================] - 96s 5s/step - loss: 0.6100 - accuracy: 0.7742 - val_loss: 0.8374 - val_accuracy: 0.7071\n",
      "Epoch 6/20\n",
      "20/20 [==============================] - 95s 5s/step - loss: 0.4315 - accuracy: 0.8379 - val_loss: 0.7002 - val_accuracy: 0.6566\n",
      "Epoch 7/20\n",
      "20/20 [==============================] - 102s 5s/step - loss: 0.3557 - accuracy: 0.8818 - val_loss: 0.7799 - val_accuracy: 0.6869\n",
      "Epoch 8/20\n",
      "20/20 [==============================] - 96s 5s/step - loss: 0.2600 - accuracy: 0.9091 - val_loss: 0.8340 - val_accuracy: 0.7374\n",
      "Epoch 9/20\n",
      "20/20 [==============================] - 94s 5s/step - loss: 0.1504 - accuracy: 0.9621 - val_loss: 0.9189 - val_accuracy: 0.6667\n",
      "Epoch 10/20\n",
      "20/20 [==============================] - 94s 5s/step - loss: 0.0637 - accuracy: 0.9955 - val_loss: 1.0352 - val_accuracy: 0.6869\n",
      "Epoch 11/20\n",
      "20/20 [==============================] - 97s 5s/step - loss: 0.0441 - accuracy: 0.9970 - val_loss: 1.0500 - val_accuracy: 0.6970\n",
      "Epoch 12/20\n",
      "20/20 [==============================] - 97s 5s/step - loss: 0.0215 - accuracy: 0.9985 - val_loss: 0.9698 - val_accuracy: 0.7172\n",
      "Epoch 13/20\n",
      "20/20 [==============================] - 93s 5s/step - loss: 0.0126 - accuracy: 1.0000 - val_loss: 0.9627 - val_accuracy: 0.7576\n",
      "Epoch 14/20\n",
      "20/20 [==============================] - 93s 5s/step - loss: 0.0058 - accuracy: 1.0000 - val_loss: 0.9627 - val_accuracy: 0.7273\n",
      "Epoch 15/20\n",
      "20/20 [==============================] - 93s 5s/step - loss: 0.0038 - accuracy: 1.0000 - val_loss: 1.1123 - val_accuracy: 0.6768\n",
      "Epoch 16/20\n",
      "20/20 [==============================] - 98s 5s/step - loss: 0.0031 - accuracy: 1.0000 - val_loss: 1.0627 - val_accuracy: 0.7576\n",
      "Epoch 17/20\n",
      "20/20 [==============================] - 91s 5s/step - loss: 0.0026 - accuracy: 1.0000 - val_loss: 1.1233 - val_accuracy: 0.7677\n",
      "Epoch 18/20\n",
      "20/20 [==============================] - 91s 5s/step - loss: 0.0021 - accuracy: 1.0000 - val_loss: 1.2363 - val_accuracy: 0.7576\n",
      "Epoch 19/20\n",
      "20/20 [==============================] - 90s 5s/step - loss: 0.0017 - accuracy: 1.0000 - val_loss: 1.1250 - val_accuracy: 0.7374\n",
      "Epoch 20/20\n",
      "20/20 [==============================] - 95s 5s/step - loss: 0.0015 - accuracy: 1.0000 - val_loss: 1.1616 - val_accuracy: 0.7273\n"
     ]
    }
   ],
   "source": [
    "history=model.fit(train_generator, steps_per_epoch=steps_per_epoch, epochs=num_epochs, verbose=1, \n",
    "                     validation_data=val_generator, \n",
    "                    validation_steps=validation_steps, class_weight=None, workers=1, initial_epoch=0)"
   ]
  },
  {
   "cell_type": "code",
   "execution_count": 176,
   "metadata": {},
   "outputs": [
    {
     "data": {
      "image/png": "[encoded data removed]",
      "text/plain": [
       "<Figure size 1000x400 with 2 Axes>"
      ]
     },
     "metadata": {},
     "output_type": "display_data"
    }
   ],
   "source": [
    "# Visualizing the Model results:\n",
    "acc = history.history['accuracy']\n",
    "val_acc = history.history['val_accuracy']\n",
    "\n",
    "loss = history.history['loss']\n",
    "val_loss = history.history['val_loss']\n",
    "\n",
    "epochs_range = range(num_epochs)\n",
    "\n",
    "plt.figure(figsize=(10, 4))\n",
    "plt.subplot(1, 2, 1)\n",
    "plt.plot(epochs_range, acc, label='Training Accuracy')\n",
    "plt.plot(epochs_range, val_acc, label='Validation Accuracy')\n",
    "plt.legend(loc='lower right')\n",
    "plt.title('Training and Validation Accuracy')\n",
    "\n",
    "plt.subplot(1, 2, 2)\n",
    "plt.plot(epochs_range, loss, label='Training Loss')\n",
    "plt.plot(epochs_range, val_loss, label='Validation Loss')\n",
    "plt.legend(loc='upper right')\n",
    "plt.title('Training and Validation Loss')\n",
    "plt.show()"
   ]
  },
  {
   "cell_type": "markdown",
   "metadata": {},
   "source": [
    "### As can be seen there is quite some amount of overfitting in the data."
   ]
  },
  {
   "cell_type": "code",
   "execution_count": 178,
   "metadata": {},
   "outputs": [],
   "source": [
    "from keras.layers import Dropout"
   ]
  },
  {
   "cell_type": "code",
   "execution_count": 179,
   "metadata": {},
   "outputs": [],
   "source": [
    "model=Sequential()\n",
    "#layer1:\n",
    "\n",
    "model.add(Conv3D(16,kernel_size=(2,2,2),strides=(1,1,1),padding='same',input_shape=(15,100,100,3),activation='relu'))\n",
    "model.add(MaxPooling3D(pool_size=(2,2,2)))\n",
    "model.add(Dropout(0.2))\n",
    "\n",
    "\n",
    "#layer2:\n",
    "model.add(Conv3D(32,kernel_size=(2,2,2),strides=(1,1,1),padding='same',activation='relu'))\n",
    "model.add(MaxPooling3D(pool_size=(2,2,2)))\n",
    "model.add(Dropout(0.2))\n",
    "\n",
    "\n",
    "\n",
    "#layer3:\n",
    "model.add(Conv3D(64,kernel_size=(2,2,2),strides=(1,1,1),padding='same',activation='relu'))\n",
    "model.add(MaxPooling3D(pool_size=(2,2,2)))\n",
    "model.add(Dropout(0.2))\n",
    "\n",
    "\n",
    "\n",
    "\n",
    "#Flatten:\n",
    "model.add(Flatten())\n",
    "\n",
    "#Dense Connections:\n",
    "model.add(Dense(512,activation='relu'))\n",
    "\n",
    "\n",
    "model.add(Dense(5,activation='softmax'))\n"
   ]
  },
  {
   "cell_type": "code",
   "execution_count": 180,
   "metadata": {},
   "outputs": [
    {
     "name": "stdout",
     "output_type": "stream",
     "text": [
      "Model: \"sequential_14\"\n",
      "_________________________________________________________________\n",
      " Layer (type)                Output Shape              Param #   \n",
      "=================================================================\n",
      " conv3d_41 (Conv3D)          (None, 15, 100, 100, 16   400       \n",
      "                             )                                   \n",
      "                                                                 \n",
      " max_pooling3d_40 (MaxPooli  (None, 7, 50, 50, 16)     0         \n",
      " ng3D)                                                           \n",
      "                                                                 \n",
      " dropout (Dropout)           (None, 7, 50, 50, 16)     0         \n",
      "                                                                 \n",
      " conv3d_42 (Conv3D)          (None, 7, 50, 50, 32)     4128      \n",
      "                                                                 \n",
      " max_pooling3d_41 (MaxPooli  (None, 3, 25, 25, 32)     0         \n",
      " ng3D)                                                           \n",
      "                                                                 \n",
      " dropout_1 (Dropout)         (None, 3, 25, 25, 32)     0         \n",
      "                                                                 \n",
      " conv3d_43 (Conv3D)          (None, 3, 25, 25, 64)     16448     \n",
      "                                                                 \n",
      " max_pooling3d_42 (MaxPooli  (None, 1, 12, 12, 64)     0         \n",
      " ng3D)                                                           \n",
      "                                                                 \n",
      " dropout_2 (Dropout)         (None, 1, 12, 12, 64)     0         \n",
      "                                                                 \n",
      " flatten_7 (Flatten)         (None, 9216)              0         \n",
      "                                                                 \n",
      " dense_14 (Dense)            (None, 512)               4719104   \n",
      "                                                                 \n",
      " dense_15 (Dense)            (None, 5)                 2565      \n",
      "                                                                 \n",
      "=================================================================\n",
      "Total params: 4742645 (18.09 MB)\n",
      "Trainable params: 4742645 (18.09 MB)\n",
      "Non-trainable params: 0 (0.00 Byte)\n",
      "_________________________________________________________________\n",
      "None\n"
     ]
    }
   ],
   "source": [
    "optimiser='adam'\n",
    "model.compile(optimizer=optimiser, loss='categorical_crossentropy', metrics=['categorical_accuracy'])\n",
    "print (model.summary())"
   ]
  },
  {
   "cell_type": "code",
   "execution_count": 181,
   "metadata": {},
   "outputs": [
    {
     "name": "stdout",
     "output_type": "stream",
     "text": [
      "Epoch 1/20\n",
      "20/20 [==============================] - 104s 5s/step - loss: 2.2257 - categorical_accuracy: 0.1955 - val_loss: 1.6001 - val_categorical_accuracy: 0.2121\n",
      "Epoch 2/20\n",
      "20/20 [==============================] - 91s 5s/step - loss: 1.5975 - categorical_accuracy: 0.2258 - val_loss: 1.6089 - val_categorical_accuracy: 0.2020\n",
      "Epoch 3/20\n",
      "20/20 [==============================] - 99s 5s/step - loss: 1.5760 - categorical_accuracy: 0.2470 - val_loss: 1.5597 - val_categorical_accuracy: 0.3030\n",
      "Epoch 4/20\n",
      "20/20 [==============================] - 100s 5s/step - loss: 1.5058 - categorical_accuracy: 0.3318 - val_loss: 1.4698 - val_categorical_accuracy: 0.4141\n",
      "Epoch 5/20\n",
      "20/20 [==============================] - 94s 5s/step - loss: 1.4034 - categorical_accuracy: 0.4030 - val_loss: 1.3796 - val_categorical_accuracy: 0.5354\n",
      "Epoch 6/20\n",
      "20/20 [==============================] - 97s 5s/step - loss: 1.1843 - categorical_accuracy: 0.5318 - val_loss: 1.1599 - val_categorical_accuracy: 0.5455\n",
      "Epoch 7/20\n",
      "20/20 [==============================] - 98s 5s/step - loss: 1.0210 - categorical_accuracy: 0.5818 - val_loss: 1.1385 - val_categorical_accuracy: 0.4747\n",
      "Epoch 8/20\n",
      "20/20 [==============================] - 99s 5s/step - loss: 0.8989 - categorical_accuracy: 0.6712 - val_loss: 1.0183 - val_categorical_accuracy: 0.5556\n",
      "Epoch 9/20\n",
      "20/20 [==============================] - 97s 5s/step - loss: 0.7899 - categorical_accuracy: 0.6818 - val_loss: 1.0487 - val_categorical_accuracy: 0.5051\n",
      "Epoch 10/20\n",
      "20/20 [==============================] - 102s 5s/step - loss: 0.7144 - categorical_accuracy: 0.6939 - val_loss: 0.9011 - val_categorical_accuracy: 0.6566\n",
      "Epoch 11/20\n",
      "20/20 [==============================] - 100s 5s/step - loss: 0.5879 - categorical_accuracy: 0.7636 - val_loss: 0.9033 - val_categorical_accuracy: 0.6061\n",
      "Epoch 12/20\n",
      "20/20 [==============================] - 106s 5s/step - loss: 0.4649 - categorical_accuracy: 0.8273 - val_loss: 0.9822 - val_categorical_accuracy: 0.5758\n",
      "Epoch 13/20\n",
      "20/20 [==============================] - 103s 5s/step - loss: 0.4131 - categorical_accuracy: 0.8394 - val_loss: 0.7473 - val_categorical_accuracy: 0.6768\n",
      "Epoch 14/20\n",
      "20/20 [==============================] - 105s 5s/step - loss: 0.2736 - categorical_accuracy: 0.9076 - val_loss: 0.8460 - val_categorical_accuracy: 0.6667\n",
      "Epoch 15/20\n",
      "20/20 [==============================] - 105s 5s/step - loss: 0.2585 - categorical_accuracy: 0.8955 - val_loss: 0.9998 - val_categorical_accuracy: 0.6162\n",
      "Epoch 16/20\n",
      "20/20 [==============================] - 120s 6s/step - loss: 0.1888 - categorical_accuracy: 0.9364 - val_loss: 0.9959 - val_categorical_accuracy: 0.6667\n",
      "Epoch 17/20\n",
      "20/20 [==============================] - 119s 6s/step - loss: 0.1486 - categorical_accuracy: 0.9485 - val_loss: 0.9577 - val_categorical_accuracy: 0.7273\n",
      "Epoch 18/20\n",
      "20/20 [==============================] - 104s 5s/step - loss: 0.1372 - categorical_accuracy: 0.9545 - val_loss: 1.0138 - val_categorical_accuracy: 0.7172\n",
      "Epoch 19/20\n",
      "20/20 [==============================] - 119s 6s/step - loss: 0.1184 - categorical_accuracy: 0.9606 - val_loss: 0.9387 - val_categorical_accuracy: 0.7071\n",
      "Epoch 20/20\n",
      "20/20 [==============================] - 111s 6s/step - loss: 0.0939 - categorical_accuracy: 0.9742 - val_loss: 1.0552 - val_categorical_accuracy: 0.6869\n"
     ]
    }
   ],
   "source": [
    "history=model.fit(train_generator, steps_per_epoch=steps_per_epoch, epochs=num_epochs, verbose=1, \n",
    "                     validation_data=val_generator, \n",
    "                    validation_steps=validation_steps, class_weight=None, workers=1, initial_epoch=0)"
   ]
  },
  {
   "cell_type": "code",
   "execution_count": 186,
   "metadata": {},
   "outputs": [
    {
     "data": {
      "text/plain": [
       "{'loss': [2.225738525390625,\n",
       "  1.597498893737793,\n",
       "  1.5759954452514648,\n",
       "  1.5058492422103882,\n",
       "  1.4033972024917603,\n",
       "  1.1843267679214478,\n",
       "  1.0209532976150513,\n",
       "  0.8988531231880188,\n",
       "  0.789888858795166,\n",
       "  0.7143751382827759,\n",
       "  0.58786940574646,\n",
       "  0.4648595154285431,\n",
       "  0.4130728542804718,\n",
       "  0.27359622716903687,\n",
       "  0.2585296034812927,\n",
       "  0.18880212306976318,\n",
       "  0.14859411120414734,\n",
       "  0.13721035420894623,\n",
       "  0.11843188107013702,\n",
       "  0.09386125206947327],\n",
       " 'categorical_accuracy': [0.19545455276966095,\n",
       "  0.22575756907463074,\n",
       "  0.24696969985961914,\n",
       "  0.33181819319725037,\n",
       "  0.40303030610084534,\n",
       "  0.5318182110786438,\n",
       "  0.581818163394928,\n",
       "  0.6712121367454529,\n",
       "  0.6818181872367859,\n",
       "  0.6939393877983093,\n",
       "  0.7636363506317139,\n",
       "  0.8272727131843567,\n",
       "  0.8393939137458801,\n",
       "  0.907575786113739,\n",
       "  0.8954545259475708,\n",
       "  0.9363636374473572,\n",
       "  0.9484848380088806,\n",
       "  0.9545454382896423,\n",
       "  0.960606038570404,\n",
       "  0.9742424488067627],\n",
       " 'val_loss': [1.6000720262527466,\n",
       "  1.6088709831237793,\n",
       "  1.5596630573272705,\n",
       "  1.4697761535644531,\n",
       "  1.3796108961105347,\n",
       "  1.1599395275115967,\n",
       "  1.138501763343811,\n",
       "  1.018266201019287,\n",
       "  1.0486533641815186,\n",
       "  0.9011325836181641,\n",
       "  0.9032674431800842,\n",
       "  0.9821557998657227,\n",
       "  0.7473130822181702,\n",
       "  0.8460140228271484,\n",
       "  0.9997746348381042,\n",
       "  0.9958910942077637,\n",
       "  0.9576815962791443,\n",
       "  1.0137708187103271,\n",
       "  0.9387161731719971,\n",
       "  1.0551884174346924],\n",
       " 'val_categorical_accuracy': [0.21212121844291687,\n",
       "  0.20202019810676575,\n",
       "  0.3030303120613098,\n",
       "  0.4141414165496826,\n",
       "  0.5353535413742065,\n",
       "  0.5454545617103577,\n",
       "  0.4747474789619446,\n",
       "  0.5555555820465088,\n",
       "  0.5050504803657532,\n",
       "  0.6565656661987305,\n",
       "  0.6060606241226196,\n",
       "  0.5757575631141663,\n",
       "  0.6767676472663879,\n",
       "  0.6666666865348816,\n",
       "  0.6161616444587708,\n",
       "  0.6666666865348816,\n",
       "  0.7272727489471436,\n",
       "  0.7171717286109924,\n",
       "  0.7070707082748413,\n",
       "  0.6868686676025391]}"
      ]
     },
     "execution_count": 186,
     "metadata": {},
     "output_type": "execute_result"
    }
   ],
   "source": [
    "history.history"
   ]
  },
  {
   "cell_type": "code",
   "execution_count": 188,
   "metadata": {},
   "outputs": [
    {
     "data": {
      "image/png": "[encoded data removed]",
      "text/plain": [
       "<Figure size 1000x400 with 2 Axes>"
      ]
     },
     "metadata": {},
     "output_type": "display_data"
    }
   ],
   "source": [
    "# Visualizing the Model results:\n",
    "acc = history.history['categorical_accuracy']\n",
    "val_acc = history.history['val_categorical_accuracy']\n",
    "\n",
    "loss = history.history['loss']\n",
    "val_loss = history.history['val_loss']\n",
    "\n",
    "epochs_range = range(num_epochs)\n",
    "\n",
    "plt.figure(figsize=(10, 4))\n",
    "plt.subplot(1, 2, 1)\n",
    "plt.plot(epochs_range, acc, label='Training Accuracy')\n",
    "plt.plot(epochs_range, val_acc, label='Validation Accuracy')\n",
    "plt.legend(loc='lower right')\n",
    "plt.title('Training and Validation Accuracy')\n",
    "\n",
    "plt.subplot(1, 2, 2)\n",
    "plt.plot(epochs_range, loss, label='Training Loss')\n",
    "plt.plot(epochs_range, val_loss, label='Validation Loss')\n",
    "plt.legend(loc='upper right')\n",
    "plt.title('Training and Validation Loss')\n",
    "plt.show()"
   ]
  },
  {
   "cell_type": "code",
   "execution_count": null,
   "metadata": {},
   "outputs": [],
   "source": []
  },
  {
   "cell_type": "code",
   "execution_count": null,
   "metadata": {},
   "outputs": [],
   "source": []
  },
  {
   "cell_type": "code",
   "execution_count": null,
   "metadata": {},
   "outputs": [],
   "source": []
  },
  {
   "cell_type": "code",
   "execution_count": null,
   "metadata": {},
   "outputs": [],
   "source": []
  },
  {
   "cell_type": "code",
   "execution_count": null,
   "metadata": {},
   "outputs": [],
   "source": []
  }
 ],
 "metadata": {
  "kernelspec": {
   "display_name": "Python 3 (ipykernel)",
   "language": "python",
   "name": "python3"
  },
  "language_info": {
   "codemirror_mode": {
    "name": "ipython",
    "version": 3
   },
   "file_extension": ".py",
   "mimetype": "text/x-python",
   "name": "python",
   "nbconvert_exporter": "python",
   "pygments_lexer": "ipython3",
   "version": "3.11.5"
  }
 },
 "nbformat": 4,
 "nbformat_minor": 2
}
